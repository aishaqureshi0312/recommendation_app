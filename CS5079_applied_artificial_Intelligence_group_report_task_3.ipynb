{
  "cells": [
    {
      "cell_type": "markdown",
      "metadata": {
        "id": "9yiYb2yX-SoR"
      },
      "source": []
    },
    {
      "cell_type": "markdown",
      "metadata": {
        "id": "9ucIO8LxQ_6x"
      },
      "source": [
        "**3.3 Deploying the Recommendation Engine**\n",
        "Deploy your recommendation engine on a platform of your choice. The user should be able to input the songs they have already listened to (using drop-down menus) and the\n",
        "platform should provide recommendations. The answer to this sub-question should include\n",
        "a working URL to the platform."
      ]
    },
    {
      "cell_type": "code",
      "execution_count": null,
      "metadata": {},
      "outputs": [
        {
          "name": "stdout",
          "output_type": "stream",
          "text": [
            "588.44s - pydevd: Sending message related to process being replaced timed-out after 5 seconds\n",
            "Requirement already satisfied: streamlit in /Users/aishaqureshi/anaconda3/lib/python3.11/site-packages (1.28.2)\n",
            "Requirement already satisfied: altair<6,>=4.0 in /Users/aishaqureshi/anaconda3/lib/python3.11/site-packages (from streamlit) (5.1.2)\n",
            "Requirement already satisfied: blinker<2,>=1.0.0 in /Users/aishaqureshi/anaconda3/lib/python3.11/site-packages (from streamlit) (1.7.0)\n",
            "Requirement already satisfied: cachetools<6,>=4.0 in /Users/aishaqureshi/anaconda3/lib/python3.11/site-packages (from streamlit) (5.3.2)\n",
            "Requirement already satisfied: click<9,>=7.0 in /Users/aishaqureshi/anaconda3/lib/python3.11/site-packages (from streamlit) (8.0.4)\n",
            "Requirement already satisfied: importlib-metadata<7,>=1.4 in /Users/aishaqureshi/anaconda3/lib/python3.11/site-packages (from streamlit) (6.0.0)\n",
            "Requirement already satisfied: numpy<2,>=1.19.3 in /Users/aishaqureshi/anaconda3/lib/python3.11/site-packages (from streamlit) (1.24.3)\n",
            "Requirement already satisfied: packaging<24,>=16.8 in /Users/aishaqureshi/anaconda3/lib/python3.11/site-packages (from streamlit) (23.0)\n",
            "Requirement already satisfied: pandas<3,>=1.3.0 in /Users/aishaqureshi/anaconda3/lib/python3.11/site-packages (from streamlit) (1.5.3)\n",
            "Requirement already satisfied: pillow<11,>=7.1.0 in /Users/aishaqureshi/anaconda3/lib/python3.11/site-packages (from streamlit) (9.4.0)\n",
            "Requirement already satisfied: protobuf<5,>=3.20 in /Users/aishaqureshi/anaconda3/lib/python3.11/site-packages (from streamlit) (4.25.1)\n",
            "Requirement already satisfied: pyarrow>=6.0 in /Users/aishaqureshi/anaconda3/lib/python3.11/site-packages (from streamlit) (11.0.0)\n",
            "Requirement already satisfied: python-dateutil<3,>=2.7.3 in /Users/aishaqureshi/anaconda3/lib/python3.11/site-packages (from streamlit) (2.8.2)\n",
            "Requirement already satisfied: requests<3,>=2.27 in /Users/aishaqureshi/anaconda3/lib/python3.11/site-packages (from streamlit) (2.31.0)\n",
            "Requirement already satisfied: rich<14,>=10.14.0 in /Users/aishaqureshi/anaconda3/lib/python3.11/site-packages (from streamlit) (13.7.0)\n",
            "Requirement already satisfied: tenacity<9,>=8.1.0 in /Users/aishaqureshi/anaconda3/lib/python3.11/site-packages (from streamlit) (8.2.2)\n",
            "Requirement already satisfied: toml<2,>=0.10.1 in /Users/aishaqureshi/anaconda3/lib/python3.11/site-packages (from streamlit) (0.10.2)\n",
            "Requirement already satisfied: typing-extensions<5,>=4.3.0 in /Users/aishaqureshi/anaconda3/lib/python3.11/site-packages (from streamlit) (4.7.1)\n",
            "Requirement already satisfied: tzlocal<6,>=1.1 in /Users/aishaqureshi/anaconda3/lib/python3.11/site-packages (from streamlit) (5.2)\n",
            "Requirement already satisfied: validators<1,>=0.2 in /Users/aishaqureshi/anaconda3/lib/python3.11/site-packages (from streamlit) (0.22.0)\n",
            "Requirement already satisfied: gitpython!=3.1.19,<4,>=3.0.7 in /Users/aishaqureshi/anaconda3/lib/python3.11/site-packages (from streamlit) (3.1.40)\n",
            "Requirement already satisfied: pydeck<1,>=0.8.0b4 in /Users/aishaqureshi/anaconda3/lib/python3.11/site-packages (from streamlit) (0.8.1b0)\n",
            "Requirement already satisfied: tornado<7,>=6.0.3 in /Users/aishaqureshi/anaconda3/lib/python3.11/site-packages (from streamlit) (6.3.2)\n",
            "Requirement already satisfied: jinja2 in /Users/aishaqureshi/anaconda3/lib/python3.11/site-packages (from altair<6,>=4.0->streamlit) (3.1.2)\n",
            "Requirement already satisfied: jsonschema>=3.0 in /Users/aishaqureshi/anaconda3/lib/python3.11/site-packages (from altair<6,>=4.0->streamlit) (4.17.3)\n",
            "Requirement already satisfied: toolz in /Users/aishaqureshi/anaconda3/lib/python3.11/site-packages (from altair<6,>=4.0->streamlit) (0.12.0)\n",
            "Requirement already satisfied: gitdb<5,>=4.0.1 in /Users/aishaqureshi/anaconda3/lib/python3.11/site-packages (from gitpython!=3.1.19,<4,>=3.0.7->streamlit) (4.0.11)\n",
            "Requirement already satisfied: zipp>=0.5 in /Users/aishaqureshi/anaconda3/lib/python3.11/site-packages (from importlib-metadata<7,>=1.4->streamlit) (3.11.0)\n",
            "Requirement already satisfied: pytz>=2020.1 in /Users/aishaqureshi/anaconda3/lib/python3.11/site-packages (from pandas<3,>=1.3.0->streamlit) (2022.7)\n",
            "Requirement already satisfied: six>=1.5 in /Users/aishaqureshi/anaconda3/lib/python3.11/site-packages (from python-dateutil<3,>=2.7.3->streamlit) (1.16.0)\n",
            "Requirement already satisfied: charset-normalizer<4,>=2 in /Users/aishaqureshi/anaconda3/lib/python3.11/site-packages (from requests<3,>=2.27->streamlit) (2.0.4)\n",
            "Requirement already satisfied: idna<4,>=2.5 in /Users/aishaqureshi/anaconda3/lib/python3.11/site-packages (from requests<3,>=2.27->streamlit) (3.4)\n",
            "Requirement already satisfied: urllib3<3,>=1.21.1 in /Users/aishaqureshi/anaconda3/lib/python3.11/site-packages (from requests<3,>=2.27->streamlit) (1.26.16)\n",
            "Requirement already satisfied: certifi>=2017.4.17 in /Users/aishaqureshi/anaconda3/lib/python3.11/site-packages (from requests<3,>=2.27->streamlit) (2023.7.22)\n",
            "Requirement already satisfied: markdown-it-py>=2.2.0 in /Users/aishaqureshi/anaconda3/lib/python3.11/site-packages (from rich<14,>=10.14.0->streamlit) (2.2.0)\n",
            "Requirement already satisfied: pygments<3.0.0,>=2.13.0 in /Users/aishaqureshi/anaconda3/lib/python3.11/site-packages (from rich<14,>=10.14.0->streamlit) (2.15.1)\n",
            "Requirement already satisfied: smmap<6,>=3.0.1 in /Users/aishaqureshi/anaconda3/lib/python3.11/site-packages (from gitdb<5,>=4.0.1->gitpython!=3.1.19,<4,>=3.0.7->streamlit) (5.0.1)\n",
            "Requirement already satisfied: MarkupSafe>=2.0 in /Users/aishaqureshi/anaconda3/lib/python3.11/site-packages (from jinja2->altair<6,>=4.0->streamlit) (2.1.1)\n",
            "Requirement already satisfied: attrs>=17.4.0 in /Users/aishaqureshi/anaconda3/lib/python3.11/site-packages (from jsonschema>=3.0->altair<6,>=4.0->streamlit) (22.1.0)\n",
            "Requirement already satisfied: pyrsistent!=0.17.0,!=0.17.1,!=0.17.2,>=0.14.0 in /Users/aishaqureshi/anaconda3/lib/python3.11/site-packages (from jsonschema>=3.0->altair<6,>=4.0->streamlit) (0.18.0)\n",
            "Requirement already satisfied: mdurl~=0.1 in /Users/aishaqureshi/anaconda3/lib/python3.11/site-packages (from markdown-it-py>=2.2.0->rich<14,>=10.14.0->streamlit) (0.1.0)\n"
          ]
        }
      ],
      "source": [
        "!pip install streamlit"
      ]
    },
    {
      "cell_type": "code",
      "execution_count": null,
      "metadata": {},
      "outputs": [
        {
          "name": "stdout",
          "output_type": "stream",
          "text": [
            "608.72s - pydevd: Sending message related to process being replaced timed-out after 5 seconds\n",
            "Requirement already satisfied: pyngrok in /Users/aishaqureshi/anaconda3/lib/python3.11/site-packages (7.0.1)\n",
            "Requirement already satisfied: PyYAML in /Users/aishaqureshi/anaconda3/lib/python3.11/site-packages (from pyngrok) (6.0)\n"
          ]
        }
      ],
      "source": [
        "!pip install pyngrok\n"
      ]
    },
    {
      "cell_type": "code",
      "execution_count": 51,
      "metadata": {},
      "outputs": [
        {
          "name": "stdout",
          "output_type": "stream",
          "text": [
            "1301.82s - pydevd: Sending message related to process being replaced timed-out after 5 seconds\n",
            "Usage: streamlit run [OPTIONS] TARGET [ARGS]...\n",
            "Try 'streamlit run --help' for help.\n",
            "\n",
            "Error: No such option: --browser.gatherUsage (Possible options: --browser.gatherUsageStats, --browser.serverPort)\n"
          ]
        }
      ],
      "source": [
        "!streamlit run recommendation_app.py --server.enableCORS false --server.enableXsrfProtection false --server.enableWebsocketCompression false --server.headless true --server.runOnSave true --browser.gatherUsage false\n"
      ]
    },
    {
      "cell_type": "code",
      "execution_count": 56,
      "metadata": {},
      "outputs": [
        {
          "name": "stdout",
          "output_type": "stream",
          "text": [
            "1522.94s - pydevd: Sending message related to process being replaced timed-out after 5 seconds\n",
            "\n",
            "      👋 \u001b[1mWelcome to Streamlit!\u001b[0m\n",
            "\n",
            "      If you’d like to receive helpful onboarding emails, news, offers, promotions,\n",
            "      and the occasional swag, please enter your email address below. Otherwise,\n",
            "      leave this field blank.\n",
            "\n",
            "      \u001b[34mEmail: \u001b[0m "
          ]
        }
      ],
      "source": [
        "!streamlit run recommendation_app.py\n"
      ]
    },
    {
      "cell_type": "code",
      "execution_count": null,
      "metadata": {},
      "outputs": [],
      "source": [
        "git add .\n",
        "git commit -m \"Add HTML file and screenshots\"\n",
        "git push origin master\n"
      ]
    }
  ],
  "metadata": {
    "colab": {
      "gpuType": "T4",
      "provenance": []
    },
    "kernelspec": {
      "display_name": "Python 3",
      "name": "python3"
    },
    "language_info": {
      "codemirror_mode": {
        "name": "ipython",
        "version": 3
      },
      "file_extension": ".py",
      "mimetype": "text/x-python",
      "name": "python",
      "nbconvert_exporter": "python",
      "pygments_lexer": "ipython3",
      "version": "3.11.5"
    }
  },
  "nbformat": 4,
  "nbformat_minor": 0
}
